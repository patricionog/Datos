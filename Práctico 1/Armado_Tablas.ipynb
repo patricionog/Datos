{
 "cells": [
  {
   "cell_type": "markdown",
   "metadata": {},
   "source": [
    "### __Migraciones__\n",
    "\n",
    "***"
   ]
  },
  {
   "cell_type": "code",
   "execution_count": 386,
   "metadata": {},
   "outputs": [],
   "source": [
    "import pandas as pd"
   ]
  },
  {
   "cell_type": "markdown",
   "metadata": {},
   "source": [
    "Carga del dataset de Migraciones."
   ]
  },
  {
   "cell_type": "code",
   "execution_count": 387,
   "metadata": {},
   "outputs": [],
   "source": [
    "Dataset_Migraciones = 'Migraciones'\n",
    "Ruta = ''\n",
    "Migraciones_DB = pd.read_csv(Ruta + Dataset_Migraciones + '.csv')"
   ]
  },
  {
   "cell_type": "markdown",
   "metadata": {},
   "source": [
    "Comienzo del filtrado. Lo primero es quedarnos con las filas de \"TOT\" en la columna de 'Migration by Gender Code'. Las filas FEM y MAL, en conjunto y sumadas, dan TOT, por ende sería información repetida e innecesaria para los fines del objetivo del estudio."
   ]
  },
  {
   "cell_type": "code",
   "execution_count": 388,
   "metadata": {},
   "outputs": [],
   "source": [
    "Migrantes = Migraciones_DB[Migraciones_DB['Migration by Gender Code'] == 'TOT']"
   ]
  },
  {
   "cell_type": "markdown",
   "metadata": {},
   "source": [
    "Eliminaamos las columnas que no incluyen a Argentina como país de origen o destino."
   ]
  },
  {
   "cell_type": "code",
   "execution_count": 389,
   "metadata": {},
   "outputs": [],
   "source": [
    "Migrantes = Migrantes[(Migrantes['Country Origin Code'] == 'ARG') | \n",
    "                      (Migrantes['Country Dest Code'] == 'ARG')]"
   ]
  },
  {
   "cell_type": "markdown",
   "metadata": {},
   "source": [
    "Filtramos las columnas a las que nos importan. Además, reseteamos el índice para no generar problemas."
   ]
  },
  {
   "cell_type": "code",
   "execution_count": 390,
   "metadata": {},
   "outputs": [],
   "source": [
    "Columnas = ['Country Origin Code', 'Country Dest Code', \n",
    "            '1960 [1960]', '1970 [1970]', '1980 [1980]', '1990 [1990]', '2000 [2000]']\n",
    "\n",
    "Migrantes = Migrantes[Columnas]\n",
    "Migrantes = Migrantes.reset_index(drop=True)"
   ]
  },
  {
   "cell_type": "markdown",
   "metadata": {},
   "source": [
    "Cambiamos los nombres de los atributos a los definitivos."
   ]
  },
  {
   "cell_type": "code",
   "execution_count": 391,
   "metadata": {},
   "outputs": [],
   "source": [
    "Nuevos_Nombres = {'Country Origin Code': 'id_pais_origen',\n",
    "                  'Country Dest Code': 'id_pais_destino',\n",
    "                  '1960 [1960]': 'cantidad_en_1960',\n",
    "                  '1970 [1970]': 'cantidad_en_1970',\n",
    "                  '1980 [1980]': 'cantidad_en_1980',\n",
    "                  '1990 [1990]': 'cantidad_en_1990',\n",
    "                  '2000 [2000]': 'cantidad_en_2000'}\n",
    "\n",
    "Migrantes = Migrantes.rename(columns=Nuevos_Nombres)"
   ]
  },
  {
   "cell_type": "markdown",
   "metadata": {},
   "source": [
    "Ya que las columnas de \"cantidad_en_x\" deben tener enteros, si hay strings, los convertimos en NULLS."
   ]
  },
  {
   "cell_type": "code",
   "execution_count": 392,
   "metadata": {},
   "outputs": [],
   "source": [
    "Columnas_Numericas = ['cantidad_en_1960', 'cantidad_en_1970', 'cantidad_en_1980', \n",
    "                      'cantidad_en_1990', 'cantidad_en_2000']\n",
    "\n",
    "for Columna in Columnas_Numericas:\n",
    "    Migrantes[Columna] = pd.to_numeric(Migrantes[Columna], errors='coerce')"
   ]
  },
  {
   "cell_type": "markdown",
   "metadata": {},
   "source": [
    "Verificamos si hay NULLS en las columnas."
   ]
  },
  {
   "cell_type": "code",
   "execution_count": 393,
   "metadata": {},
   "outputs": [],
   "source": [
    "Count_Nulls_By_Columns = Migrantes.isnull().sum()"
   ]
  },
  {
   "cell_type": "markdown",
   "metadata": {},
   "source": [
    "Llenamos los NULLS con 0. Esto es porque en la tabla había \".\" para cuando no había habido migraciones en ninguna de las columnas numéricas, por lo que 0 es un relleno correcto."
   ]
  },
  {
   "cell_type": "code",
   "execution_count": 394,
   "metadata": {},
   "outputs": [],
   "source": [
    "for Columna in Columnas_Numericas:\n",
    "    Migrantes[Columna] = Migrantes[Columna].fillna(0)"
   ]
  },
  {
   "cell_type": "markdown",
   "metadata": {},
   "source": [
    "Por las dudas, borramos espacios entre palabras (que suponemos no los hay, pero por si los hubiere perdidos por ahí) y al principio y al final."
   ]
  },
  {
   "cell_type": "code",
   "execution_count": 395,
   "metadata": {},
   "outputs": [],
   "source": [
    "Columnas_String = ['id_pais_origen', 'id_pais_destino']\n",
    "\n",
    "for Columna in Columnas_String:\n",
    "    Migrantes[Columna] = Migrantes[Columna].str.strip().str.replace(r'\\s+', ' ', regex=True)"
   ]
  },
  {
   "cell_type": "markdown",
   "metadata": {},
   "source": [
    "Creamos cinco DataFrames, cada uno con un año específico. Le agregamos una columna con el año correspondiente. Después, los filtramos: nos quedamos solo con las filas con valores mayores a 0, es decir, con filas con migrantes. Reseteamos el índice y les cambiamos el nombre. Por último, los concatenamos en el DataFrame final."
   ]
  },
  {
   "cell_type": "code",
   "execution_count": 396,
   "metadata": {},
   "outputs": [],
   "source": [
    "DataFrames_Cantidades = []\n",
    "\n",
    "for Columna in Columnas_Numericas:\n",
    "    DataFrame = Migrantes[['id_pais_origen', 'id_pais_destino', Columna]]    # Filtrado de columnas.\n",
    "    DataFrame = DataFrame[DataFrame[Columna] > 0]                            # Filtrado de filas.\n",
    "    DataFrame['anio'] = Columna[-4:len(Columna)+1]                           # Crear columna con el año.    \n",
    "    DataFrame = DataFrame.reset_index(drop=True)                             # Resetear índices.\n",
    "    DataFrame = DataFrame.rename(columns={Columna: 'migrantes'})             # Renombrar columna.\n",
    "    DataFrames_Cantidades.append(DataFrame)                                  # Agregar df a lista de dfs.\n",
    "\n",
    "Migrantes = pd.concat(DataFrames_Cantidades)"
   ]
  },
  {
   "cell_type": "markdown",
   "metadata": {},
   "source": [
    "Armamos un DataFrame para los migrantes recibidos."
   ]
  },
  {
   "cell_type": "code",
   "execution_count": 397,
   "metadata": {},
   "outputs": [],
   "source": [
    "# Inmigrantes = Migrantes[Migrantes['id_pais_destino'] == 'ARG'].copy()\n",
    "# Inmigrantes.loc[:, 'emigrantes'] = 0\n",
    "# Inmigrantes = Inmigrantes[['id_pais_origen', 'migrantes', 'emigrantes', 'anio']]\n",
    "# Inmigrantes = Inmigrantes.rename(columns={'id_pais_origen': 'id_pais', 'migrantes': 'inmigrantes'})\n",
    "# Inmigrantes"
   ]
  },
  {
   "cell_type": "markdown",
   "metadata": {},
   "source": [
    "Armamos otro para los inmigrantes."
   ]
  },
  {
   "cell_type": "code",
   "execution_count": 398,
   "metadata": {},
   "outputs": [],
   "source": [
    "# Emigrantes = Migrantes[Migrantes['id_pais_origen'] == 'ARG'].copy()\n",
    "# Emigrantes.loc[:, 'inmigrantes'] = 0\n",
    "# Emigrantes = Emigrantes[['id_pais_destino', 'inmigrantes', 'migrantes', 'anio']]\n",
    "# Emigrantes = Emigrantes.rename(columns={'id_pais_destino': 'id_pais', 'migrantes': 'emigrantes'})\n",
    "# Emigrantes"
   ]
  },
  {
   "cell_type": "markdown",
   "metadata": {},
   "source": [
    "Combinamos los datos."
   ]
  },
  {
   "cell_type": "code",
   "execution_count": 399,
   "metadata": {},
   "outputs": [],
   "source": [
    "# Migrantes = pd.DataFrame()\n",
    "# ID_Pais_Lista = []\n",
    "# Inmigrantes_Lista = []\n",
    "# Emigrantes_Lista = []\n",
    "# Anio_Lista = []\n",
    "\n",
    "# for Index, Row in Inmigrantes.iterrows():\n",
    "#     Inmigrantes['inmigrantes'][Index] = "
   ]
  },
  {
   "cell_type": "markdown",
   "metadata": {},
   "source": [
    "Guardamos el archivo."
   ]
  },
  {
   "cell_type": "code",
   "execution_count": 400,
   "metadata": {},
   "outputs": [
    {
     "data": {
      "text/html": [
       "<div>\n",
       "<style scoped>\n",
       "    .dataframe tbody tr th:only-of-type {\n",
       "        vertical-align: middle;\n",
       "    }\n",
       "\n",
       "    .dataframe tbody tr th {\n",
       "        vertical-align: top;\n",
       "    }\n",
       "\n",
       "    .dataframe thead th {\n",
       "        text-align: right;\n",
       "    }\n",
       "</style>\n",
       "<table border=\"1\" class=\"dataframe\">\n",
       "  <thead>\n",
       "    <tr style=\"text-align: right;\">\n",
       "      <th></th>\n",
       "      <th>id_pais_origen</th>\n",
       "      <th>id_pais_destino</th>\n",
       "      <th>migrantes</th>\n",
       "      <th>anio</th>\n",
       "    </tr>\n",
       "  </thead>\n",
       "  <tbody>\n",
       "    <tr>\n",
       "      <th>0</th>\n",
       "      <td>AFG</td>\n",
       "      <td>ARG</td>\n",
       "      <td>6.0</td>\n",
       "      <td>1960</td>\n",
       "    </tr>\n",
       "    <tr>\n",
       "      <th>1</th>\n",
       "      <td>ALB</td>\n",
       "      <td>ARG</td>\n",
       "      <td>4.0</td>\n",
       "      <td>1960</td>\n",
       "    </tr>\n",
       "    <tr>\n",
       "      <th>2</th>\n",
       "      <td>DZA</td>\n",
       "      <td>ARG</td>\n",
       "      <td>71.0</td>\n",
       "      <td>1960</td>\n",
       "    </tr>\n",
       "    <tr>\n",
       "      <th>3</th>\n",
       "      <td>AGO</td>\n",
       "      <td>ARG</td>\n",
       "      <td>786.0</td>\n",
       "      <td>1960</td>\n",
       "    </tr>\n",
       "    <tr>\n",
       "      <th>4</th>\n",
       "      <td>ARG</td>\n",
       "      <td>DZA</td>\n",
       "      <td>3.0</td>\n",
       "      <td>1960</td>\n",
       "    </tr>\n",
       "    <tr>\n",
       "      <th>5</th>\n",
       "      <td>ARG</td>\n",
       "      <td>AND</td>\n",
       "      <td>4.0</td>\n",
       "      <td>1960</td>\n",
       "    </tr>\n",
       "    <tr>\n",
       "      <th>6</th>\n",
       "      <td>ARG</td>\n",
       "      <td>AGO</td>\n",
       "      <td>6.0</td>\n",
       "      <td>1960</td>\n",
       "    </tr>\n",
       "    <tr>\n",
       "      <th>7</th>\n",
       "      <td>ARG</td>\n",
       "      <td>ATG</td>\n",
       "      <td>3.0</td>\n",
       "      <td>1960</td>\n",
       "    </tr>\n",
       "    <tr>\n",
       "      <th>8</th>\n",
       "      <td>ARG</td>\n",
       "      <td>ABW</td>\n",
       "      <td>8.0</td>\n",
       "      <td>1960</td>\n",
       "    </tr>\n",
       "    <tr>\n",
       "      <th>9</th>\n",
       "      <td>ARG</td>\n",
       "      <td>AUS</td>\n",
       "      <td>144.0</td>\n",
       "      <td>1960</td>\n",
       "    </tr>\n",
       "  </tbody>\n",
       "</table>\n",
       "</div>"
      ],
      "text/plain": [
       "  id_pais_origen id_pais_destino  migrantes  anio\n",
       "0            AFG             ARG        6.0  1960\n",
       "1            ALB             ARG        4.0  1960\n",
       "2            DZA             ARG       71.0  1960\n",
       "3            AGO             ARG      786.0  1960\n",
       "4            ARG             DZA        3.0  1960\n",
       "5            ARG             AND        4.0  1960\n",
       "6            ARG             AGO        6.0  1960\n",
       "7            ARG             ATG        3.0  1960\n",
       "8            ARG             ABW        8.0  1960\n",
       "9            ARG             AUS      144.0  1960"
      ]
     },
     "execution_count": 400,
     "metadata": {},
     "output_type": "execute_result"
    }
   ],
   "source": [
    "Migrantes.to_csv('Tablas/TABLA. Migrantes.csv', index=False)\n",
    "\n",
    "Migrantes.head(10)"
   ]
  },
  {
   "cell_type": "markdown",
   "metadata": {},
   "source": [
    "### __Regiones__\n",
    "\n",
    "***"
   ]
  },
  {
   "cell_type": "markdown",
   "metadata": {},
   "source": [
    "Las regiones se extraen del dataset \"Sedes\"."
   ]
  },
  {
   "cell_type": "code",
   "execution_count": 401,
   "metadata": {},
   "outputs": [],
   "source": [
    "Dataset_Sedes = 'Sedes'\n",
    "Sedes_DB = pd.read_csv(Ruta + Dataset_Sedes + '.csv')"
   ]
  },
  {
   "cell_type": "markdown",
   "metadata": {},
   "source": [
    "Arreglamos discordancias de datos entre los códigos de países en Sedes y Migraciones."
   ]
  },
  {
   "cell_type": "code",
   "execution_count": 402,
   "metadata": {},
   "outputs": [],
   "source": [
    "Sedes_DB['pais_iso_3'] = Sedes_DB['pais_iso_3'].replace('GRB', 'GBR')"
   ]
  },
  {
   "cell_type": "markdown",
   "metadata": {},
   "source": [
    "Nos quedamos con las columna que nos interesa: region_geografica."
   ]
  },
  {
   "cell_type": "code",
   "execution_count": 403,
   "metadata": {},
   "outputs": [],
   "source": [
    "Regiones = pd.DataFrame(Sedes_DB['region_geografica'])"
   ]
  },
  {
   "cell_type": "markdown",
   "metadata": {},
   "source": [
    "Eliminamos espacios adicionales."
   ]
  },
  {
   "cell_type": "code",
   "execution_count": 404,
   "metadata": {},
   "outputs": [],
   "source": [
    "Regiones['region_geografica'] = Regiones['region_geografica'].str.strip().str.replace(r'\\s+', ' ', regex=True)"
   ]
  },
  {
   "cell_type": "markdown",
   "metadata": {},
   "source": [
    "Nos quedamos con los valores únicos."
   ]
  },
  {
   "cell_type": "code",
   "execution_count": 405,
   "metadata": {},
   "outputs": [],
   "source": [
    "Regiones = Regiones.drop_duplicates()"
   ]
  },
  {
   "cell_type": "markdown",
   "metadata": {},
   "source": [
    "Las ordenamos alfabéticamente y reseteamos el índice para no generar problemas."
   ]
  },
  {
   "cell_type": "code",
   "execution_count": 406,
   "metadata": {},
   "outputs": [],
   "source": [
    "Regiones = Regiones.sort_values(by='region_geografica').reset_index(drop=True)"
   ]
  },
  {
   "cell_type": "markdown",
   "metadata": {},
   "source": [
    "Generamos una nueva columna: id, con números identificatorios."
   ]
  },
  {
   "cell_type": "code",
   "execution_count": 407,
   "metadata": {},
   "outputs": [],
   "source": [
    "Regiones['id'] = [x for x in range(1,len(Regiones)+1)]"
   ]
  },
  {
   "cell_type": "markdown",
   "metadata": {},
   "source": [
    "Cambiamos los nombres de los atributos y ordenamos las columnas"
   ]
  },
  {
   "cell_type": "code",
   "execution_count": 408,
   "metadata": {},
   "outputs": [],
   "source": [
    "Regiones = Regiones.rename(columns = {'region_geografica': 'nombre'})\n",
    "Regiones = Regiones[['id', 'nombre']]"
   ]
  },
  {
   "cell_type": "markdown",
   "metadata": {},
   "source": [
    "Chequeo final de nulos en la columna \"id\". Los eliminamos."
   ]
  },
  {
   "cell_type": "code",
   "execution_count": 409,
   "metadata": {},
   "outputs": [],
   "source": [
    "Regiones = Regiones.dropna(subset='id')"
   ]
  },
  {
   "cell_type": "markdown",
   "metadata": {},
   "source": [
    "Guardamos el documento en un .csv."
   ]
  },
  {
   "cell_type": "code",
   "execution_count": 410,
   "metadata": {},
   "outputs": [
    {
     "data": {
      "text/html": [
       "<div>\n",
       "<style scoped>\n",
       "    .dataframe tbody tr th:only-of-type {\n",
       "        vertical-align: middle;\n",
       "    }\n",
       "\n",
       "    .dataframe tbody tr th {\n",
       "        vertical-align: top;\n",
       "    }\n",
       "\n",
       "    .dataframe thead th {\n",
       "        text-align: right;\n",
       "    }\n",
       "</style>\n",
       "<table border=\"1\" class=\"dataframe\">\n",
       "  <thead>\n",
       "    <tr style=\"text-align: right;\">\n",
       "      <th></th>\n",
       "      <th>id</th>\n",
       "      <th>nombre</th>\n",
       "    </tr>\n",
       "  </thead>\n",
       "  <tbody>\n",
       "    <tr>\n",
       "      <th>0</th>\n",
       "      <td>1</td>\n",
       "      <td>AMÉRICA CENTRAL Y CARIBE</td>\n",
       "    </tr>\n",
       "    <tr>\n",
       "      <th>1</th>\n",
       "      <td>2</td>\n",
       "      <td>AMÉRICA DEL NORTE</td>\n",
       "    </tr>\n",
       "    <tr>\n",
       "      <th>2</th>\n",
       "      <td>3</td>\n",
       "      <td>AMÉRICA DEL SUR</td>\n",
       "    </tr>\n",
       "    <tr>\n",
       "      <th>3</th>\n",
       "      <td>4</td>\n",
       "      <td>ASIA</td>\n",
       "    </tr>\n",
       "    <tr>\n",
       "      <th>4</th>\n",
       "      <td>5</td>\n",
       "      <td>EUROPA CENTRAL Y ORIENTAL</td>\n",
       "    </tr>\n",
       "    <tr>\n",
       "      <th>5</th>\n",
       "      <td>6</td>\n",
       "      <td>EUROPA OCCIDENTAL</td>\n",
       "    </tr>\n",
       "    <tr>\n",
       "      <th>6</th>\n",
       "      <td>7</td>\n",
       "      <td>OCEANÍA</td>\n",
       "    </tr>\n",
       "    <tr>\n",
       "      <th>7</th>\n",
       "      <td>8</td>\n",
       "      <td>ÁFRICA DEL NORTE Y CERCANO ORIENTE</td>\n",
       "    </tr>\n",
       "    <tr>\n",
       "      <th>8</th>\n",
       "      <td>9</td>\n",
       "      <td>ÁFRICA SUBSAHARIANA</td>\n",
       "    </tr>\n",
       "  </tbody>\n",
       "</table>\n",
       "</div>"
      ],
      "text/plain": [
       "   id                              nombre\n",
       "0   1            AMÉRICA CENTRAL Y CARIBE\n",
       "1   2                   AMÉRICA DEL NORTE\n",
       "2   3                     AMÉRICA DEL SUR\n",
       "3   4                                ASIA\n",
       "4   5           EUROPA CENTRAL Y ORIENTAL\n",
       "5   6                   EUROPA OCCIDENTAL\n",
       "6   7                             OCEANÍA\n",
       "7   8  ÁFRICA DEL NORTE Y CERCANO ORIENTE\n",
       "8   9                 ÁFRICA SUBSAHARIANA"
      ]
     },
     "execution_count": 410,
     "metadata": {},
     "output_type": "execute_result"
    }
   ],
   "source": [
    "Regiones.to_csv('Tablas/TABLA. Regiones.csv', index=False)\n",
    "\n",
    "Regiones"
   ]
  },
  {
   "cell_type": "markdown",
   "metadata": {},
   "source": [
    "### __Países__\n",
    "\n",
    "***"
   ]
  },
  {
   "cell_type": "markdown",
   "metadata": {},
   "source": [
    "Usamos los códigos y nombres de la base de datos \"Migraciones.csv\", ya que son más exhaustivos que los de las otras tablas. El procedimiento para encontrar los valores únicos es:\n",
    "\n",
    "1. Armar tres DataFrames: uno con los países de origen -código y nombre-, otro con los países de destino -código y nombre- y otro con los países de \"Sedes\". De esa forma obtenemos todos los países que están en una u otra columna pero no en las otras.\n",
    "2. Concatenarlos verticalmente, llamando las columnas \"id\" y \"nombre\". Este DataFrame se llama \"Países\".\n",
    "3. Se eliminan las filas con valores duplicados en la columna \"id\". "
   ]
  },
  {
   "cell_type": "code",
   "execution_count": 411,
   "metadata": {},
   "outputs": [],
   "source": [
    "Paises_Origen = Migraciones_DB[['Country Origin Code', 'Country Origin Name']]\n",
    "Paises_Destino = Migraciones_DB[['Country Dest Code', 'Country Dest Name']]\n",
    "Paises_Sedes = Sedes_DB[['pais_iso_3', 'pais_castellano']]"
   ]
  },
  {
   "cell_type": "markdown",
   "metadata": {},
   "source": [
    "Renombramos las columnas para que se llamen igual."
   ]
  },
  {
   "cell_type": "code",
   "execution_count": 412,
   "metadata": {},
   "outputs": [],
   "source": [
    "Nuevos_Nombres_Origen = {'Country Origin Code': 'id',\n",
    "                         'Country Origin Name': 'nombre'}\n",
    "\n",
    "Nuevos_Nombres_Destino = {'Country Dest Code': 'id',\n",
    "                          'Country Dest Name': 'nombre'}\n",
    "\n",
    "Nuevos_Nombres_Sedes = {'pais_iso_3': 'id',\n",
    "                        'pais_castellano': 'nombre'}\n",
    "\n",
    "Paises_Origen = Paises_Origen.rename(columns = Nuevos_Nombres_Origen)\n",
    "Paises_Destino = Paises_Destino.rename(columns = Nuevos_Nombres_Destino)\n",
    "Paises_Sedes = Paises_Sedes.rename(columns = Nuevos_Nombres_Sedes)"
   ]
  },
  {
   "cell_type": "markdown",
   "metadata": {},
   "source": [
    "Concatenamos verticalmente los dos DataFrames y creamos \"Paises\"."
   ]
  },
  {
   "cell_type": "code",
   "execution_count": 413,
   "metadata": {},
   "outputs": [],
   "source": [
    "Paises = pd.concat([Paises_Origen, Paises_Destino, Paises_Sedes], axis=0)"
   ]
  },
  {
   "cell_type": "markdown",
   "metadata": {},
   "source": [
    "Eliminamos espacios adicionales."
   ]
  },
  {
   "cell_type": "code",
   "execution_count": 414,
   "metadata": {},
   "outputs": [],
   "source": [
    "for Columna in Paises.columns:\n",
    "    Paises[Columna] = Paises[Columna].str.strip().str.replace(r'\\s+', ' ', regex=True)"
   ]
  },
  {
   "cell_type": "markdown",
   "metadata": {},
   "source": [
    "Filtramos los valores repetidos de las columna \"id\". Además, reseteamos el índice para no generar problemas."
   ]
  },
  {
   "cell_type": "code",
   "execution_count": 415,
   "metadata": {},
   "outputs": [],
   "source": [
    "Paises = Paises.drop_duplicates(subset=['id']).reset_index(drop=True)"
   ]
  },
  {
   "cell_type": "markdown",
   "metadata": {},
   "source": [
    "Eliminamos los duplicados en la columna \"pais_iso_3\" en el DataFrame \"Sedes\". Esto es para que no se generen filas de más en el join."
   ]
  },
  {
   "cell_type": "code",
   "execution_count": 416,
   "metadata": {},
   "outputs": [],
   "source": [
    "Paises_En_Sedes = Sedes_DB.drop_duplicates(subset='pais_iso_3')"
   ]
  },
  {
   "cell_type": "markdown",
   "metadata": {},
   "source": [
    "Además, eliminamos espacios adicionales."
   ]
  },
  {
   "cell_type": "code",
   "execution_count": 417,
   "metadata": {},
   "outputs": [
    {
     "name": "stderr",
     "output_type": "stream",
     "text": [
      "C:\\Users\\tomas\\AppData\\Local\\Temp\\ipykernel_5924\\898895942.py:2: SettingWithCopyWarning: \n",
      "A value is trying to be set on a copy of a slice from a DataFrame.\n",
      "Try using .loc[row_indexer,col_indexer] = value instead\n",
      "\n",
      "See the caveats in the documentation: https://pandas.pydata.org/pandas-docs/stable/user_guide/indexing.html#returning-a-view-versus-a-copy\n",
      "  Paises_En_Sedes[Columna] = Paises_En_Sedes[Columna].str.strip().str.replace(r'\\s+', ' ', regex=True)\n"
     ]
    }
   ],
   "source": [
    "for Columna in ['region_geografica', 'pais_iso_3']:\n",
    "    Paises_En_Sedes[Columna] = Paises_En_Sedes[Columna].str.strip().str.replace(r'\\s+', ' ', regex=True)"
   ]
  },
  {
   "cell_type": "markdown",
   "metadata": {},
   "source": [
    "Agregamos el 'id_region' correspondiente a cada país. Este se extrae del correspondiente al país en el dataset \"Sedes\". Si no se encuentra, queda NULL."
   ]
  },
  {
   "cell_type": "code",
   "execution_count": 418,
   "metadata": {},
   "outputs": [],
   "source": [
    "Paises = pd.merge(Paises, Paises_En_Sedes, left_on='id', right_on='pais_iso_3', how='left')[['id', 'nombre', 'region_geografica']]"
   ]
  },
  {
   "cell_type": "markdown",
   "metadata": {},
   "source": [
    "Hacemos un LEFT_JOIN con el DataFrame \"Regiones\" para extraer los id de las regiones correspondientes."
   ]
  },
  {
   "cell_type": "code",
   "execution_count": 419,
   "metadata": {},
   "outputs": [],
   "source": [
    "Paises = pd.merge(Paises, Regiones, left_on='region_geografica', right_on='nombre', how='left')"
   ]
  },
  {
   "cell_type": "markdown",
   "metadata": {},
   "source": [
    "Filtramos las columnas a las que necesitamos y cambiamos nombres."
   ]
  },
  {
   "cell_type": "code",
   "execution_count": 420,
   "metadata": {},
   "outputs": [],
   "source": [
    "Paises = Paises[['id_x', 'nombre_x', 'id_y']]\n",
    "\n",
    "Paises = Paises.rename(columns={'id_x': 'id', 'nombre_x': 'nombre', 'id_y': 'id_region'})"
   ]
  },
  {
   "cell_type": "markdown",
   "metadata": {},
   "source": [
    "Contamos los NULLS y los reemplazamos con \"-\" (esto es opcional).\n",
    "\n",
    "NOTA: Este punto es problemático porque hay demasiados NULLS."
   ]
  },
  {
   "cell_type": "code",
   "execution_count": 421,
   "metadata": {},
   "outputs": [],
   "source": [
    "Paises['id_region'] = Paises['id_region'].fillna('-')"
   ]
  },
  {
   "cell_type": "markdown",
   "metadata": {},
   "source": [
    "Ordenamos alfabéticamente por id."
   ]
  },
  {
   "cell_type": "code",
   "execution_count": 422,
   "metadata": {},
   "outputs": [],
   "source": [
    "Paises = Paises.sort_values(by='id').reset_index(drop=True)"
   ]
  },
  {
   "cell_type": "markdown",
   "metadata": {},
   "source": [
    "Chequeo final de nulos en la columna \"id\". Los eliminamos."
   ]
  },
  {
   "cell_type": "code",
   "execution_count": 423,
   "metadata": {},
   "outputs": [],
   "source": [
    "Paises = Paises.dropna(subset='id')"
   ]
  },
  {
   "cell_type": "markdown",
   "metadata": {},
   "source": [
    "Guardamos el documento."
   ]
  },
  {
   "cell_type": "code",
   "execution_count": 424,
   "metadata": {},
   "outputs": [
    {
     "data": {
      "text/html": [
       "<div>\n",
       "<style scoped>\n",
       "    .dataframe tbody tr th:only-of-type {\n",
       "        vertical-align: middle;\n",
       "    }\n",
       "\n",
       "    .dataframe tbody tr th {\n",
       "        vertical-align: top;\n",
       "    }\n",
       "\n",
       "    .dataframe thead th {\n",
       "        text-align: right;\n",
       "    }\n",
       "</style>\n",
       "<table border=\"1\" class=\"dataframe\">\n",
       "  <thead>\n",
       "    <tr style=\"text-align: right;\">\n",
       "      <th></th>\n",
       "      <th>id</th>\n",
       "      <th>nombre</th>\n",
       "      <th>id_region</th>\n",
       "    </tr>\n",
       "  </thead>\n",
       "  <tbody>\n",
       "    <tr>\n",
       "      <th>0</th>\n",
       "      <td>ABW</td>\n",
       "      <td>Aruba</td>\n",
       "      <td>-</td>\n",
       "    </tr>\n",
       "    <tr>\n",
       "      <th>1</th>\n",
       "      <td>AFG</td>\n",
       "      <td>Afghanistan</td>\n",
       "      <td>-</td>\n",
       "    </tr>\n",
       "    <tr>\n",
       "      <th>2</th>\n",
       "      <td>AGO</td>\n",
       "      <td>Angola</td>\n",
       "      <td>9.0</td>\n",
       "    </tr>\n",
       "    <tr>\n",
       "      <th>3</th>\n",
       "      <td>AIA</td>\n",
       "      <td>Anguilla</td>\n",
       "      <td>-</td>\n",
       "    </tr>\n",
       "    <tr>\n",
       "      <th>4</th>\n",
       "      <td>ALB</td>\n",
       "      <td>Albania</td>\n",
       "      <td>-</td>\n",
       "    </tr>\n",
       "    <tr>\n",
       "      <th>...</th>\n",
       "      <td>...</td>\n",
       "      <td>...</td>\n",
       "      <td>...</td>\n",
       "    </tr>\n",
       "    <tr>\n",
       "      <th>228</th>\n",
       "      <td>YEM</td>\n",
       "      <td>Yemen, Rep.</td>\n",
       "      <td>-</td>\n",
       "    </tr>\n",
       "    <tr>\n",
       "      <th>229</th>\n",
       "      <td>ZAF</td>\n",
       "      <td>South Africa</td>\n",
       "      <td>9.0</td>\n",
       "    </tr>\n",
       "    <tr>\n",
       "      <th>230</th>\n",
       "      <td>ZMB</td>\n",
       "      <td>Zambia</td>\n",
       "      <td>-</td>\n",
       "    </tr>\n",
       "    <tr>\n",
       "      <th>231</th>\n",
       "      <td>ZWE</td>\n",
       "      <td>Zimbabwe</td>\n",
       "      <td>-</td>\n",
       "    </tr>\n",
       "    <tr>\n",
       "      <th>232</th>\n",
       "      <td>zzz</td>\n",
       "      <td>Refugees</td>\n",
       "      <td>-</td>\n",
       "    </tr>\n",
       "  </tbody>\n",
       "</table>\n",
       "<p>233 rows × 3 columns</p>\n",
       "</div>"
      ],
      "text/plain": [
       "      id        nombre id_region\n",
       "0    ABW         Aruba         -\n",
       "1    AFG   Afghanistan         -\n",
       "2    AGO        Angola       9.0\n",
       "3    AIA      Anguilla         -\n",
       "4    ALB       Albania         -\n",
       "..   ...           ...       ...\n",
       "228  YEM   Yemen, Rep.         -\n",
       "229  ZAF  South Africa       9.0\n",
       "230  ZMB        Zambia         -\n",
       "231  ZWE      Zimbabwe         -\n",
       "232  zzz      Refugees         -\n",
       "\n",
       "[233 rows x 3 columns]"
      ]
     },
     "execution_count": 424,
     "metadata": {},
     "output_type": "execute_result"
    }
   ],
   "source": [
    "Paises.to_csv('Tablas/TABLA. Paises.csv', index=False)\n",
    "\n",
    "Paises"
   ]
  },
  {
   "cell_type": "markdown",
   "metadata": {},
   "source": [
    "### __Sedes__\n",
    "\n",
    "***"
   ]
  },
  {
   "cell_type": "markdown",
   "metadata": {},
   "source": [
    "Se extraen del dataset \"Sedes\". Nos quedamos con las columnas que nos interesan y conforman los atributos."
   ]
  },
  {
   "cell_type": "code",
   "execution_count": 425,
   "metadata": {},
   "outputs": [],
   "source": [
    "Sedes = Sedes_DB[['sede_id', 'sede_desc_castellano', 'pais_iso_3']]"
   ]
  },
  {
   "cell_type": "markdown",
   "metadata": {},
   "source": [
    "Cambiamos los nombres de las columnas."
   ]
  },
  {
   "cell_type": "code",
   "execution_count": 426,
   "metadata": {},
   "outputs": [],
   "source": [
    "Sedes = Sedes.rename(columns={'sede_id': 'id', 'pais_iso_3': 'id_pais', 'sede_desc_castellano': 'nombre'})"
   ]
  },
  {
   "cell_type": "markdown",
   "metadata": {},
   "source": [
    "Borramos espacios adicionales."
   ]
  },
  {
   "cell_type": "code",
   "execution_count": 427,
   "metadata": {},
   "outputs": [],
   "source": [
    "for Columna in Sedes.columns:\n",
    "    Sedes[Columna] = Sedes[Columna].str.strip().str.replace(r'\\s+', ' ', regex=True)"
   ]
  },
  {
   "cell_type": "markdown",
   "metadata": {},
   "source": [
    "Ordenamos alfabéticamente por id."
   ]
  },
  {
   "cell_type": "code",
   "execution_count": 428,
   "metadata": {},
   "outputs": [],
   "source": [
    "Sedes = Sedes.sort_values(by='id').reset_index(drop=True)"
   ]
  },
  {
   "cell_type": "markdown",
   "metadata": {},
   "source": [
    "Chequeo final de nulos en la columna \"id\". Los eliminamos."
   ]
  },
  {
   "cell_type": "code",
   "execution_count": 429,
   "metadata": {},
   "outputs": [],
   "source": [
    "Sedes = Sedes.dropna(subset='id')"
   ]
  },
  {
   "cell_type": "markdown",
   "metadata": {},
   "source": [
    "Guardamos el documento."
   ]
  },
  {
   "cell_type": "code",
   "execution_count": 430,
   "metadata": {},
   "outputs": [
    {
     "data": {
      "text/html": [
       "<div>\n",
       "<style scoped>\n",
       "    .dataframe tbody tr th:only-of-type {\n",
       "        vertical-align: middle;\n",
       "    }\n",
       "\n",
       "    .dataframe tbody tr th {\n",
       "        vertical-align: top;\n",
       "    }\n",
       "\n",
       "    .dataframe thead th {\n",
       "        text-align: right;\n",
       "    }\n",
       "</style>\n",
       "<table border=\"1\" class=\"dataframe\">\n",
       "  <thead>\n",
       "    <tr style=\"text-align: right;\">\n",
       "      <th></th>\n",
       "      <th>id</th>\n",
       "      <th>nombre</th>\n",
       "      <th>id_pais</th>\n",
       "    </tr>\n",
       "  </thead>\n",
       "  <tbody>\n",
       "    <tr>\n",
       "      <th>0</th>\n",
       "      <td>CALEG</td>\n",
       "      <td>Consulado General en Porto Alegre</td>\n",
       "      <td>BRA</td>\n",
       "    </tr>\n",
       "    <tr>\n",
       "      <th>1</th>\n",
       "      <td>CANTO</td>\n",
       "      <td>Consulado en Antofagasta</td>\n",
       "      <td>CHL</td>\n",
       "    </tr>\n",
       "    <tr>\n",
       "      <th>2</th>\n",
       "      <td>CAREN</td>\n",
       "      <td>Consulado General en Punta Arenas</td>\n",
       "      <td>CHL</td>\n",
       "    </tr>\n",
       "    <tr>\n",
       "      <th>3</th>\n",
       "      <td>CASUN</td>\n",
       "      <td>Consulado General en Asunción</td>\n",
       "      <td>PRY</td>\n",
       "    </tr>\n",
       "    <tr>\n",
       "      <th>4</th>\n",
       "      <td>CATLA</td>\n",
       "      <td>Consulado General en Atlanta</td>\n",
       "      <td>USA</td>\n",
       "    </tr>\n",
       "    <tr>\n",
       "      <th>...</th>\n",
       "      <td>...</td>\n",
       "      <td>...</td>\n",
       "      <td>...</td>\n",
       "    </tr>\n",
       "    <tr>\n",
       "      <th>159</th>\n",
       "      <td>EURUG</td>\n",
       "      <td>Embajada en Uruguay</td>\n",
       "      <td>URY</td>\n",
       "    </tr>\n",
       "    <tr>\n",
       "      <th>160</th>\n",
       "      <td>EVENE</td>\n",
       "      <td>Embajada en Venezuela</td>\n",
       "      <td>VEN</td>\n",
       "    </tr>\n",
       "    <tr>\n",
       "      <th>161</th>\n",
       "      <td>EVIET</td>\n",
       "      <td>Embajada en Vietnam</td>\n",
       "      <td>VNM</td>\n",
       "    </tr>\n",
       "    <tr>\n",
       "      <th>162</th>\n",
       "      <td>OCCAT</td>\n",
       "      <td>Oficina Comercial y Cultural Argentina en Taiwán</td>\n",
       "      <td>CHN</td>\n",
       "    </tr>\n",
       "    <tr>\n",
       "      <th>163</th>\n",
       "      <td>REPAL</td>\n",
       "      <td>Oficina de Representación en el Estado de Pale...</td>\n",
       "      <td>PSE</td>\n",
       "    </tr>\n",
       "  </tbody>\n",
       "</table>\n",
       "<p>164 rows × 3 columns</p>\n",
       "</div>"
      ],
      "text/plain": [
       "        id                                             nombre id_pais\n",
       "0    CALEG                  Consulado General en Porto Alegre     BRA\n",
       "1    CANTO                           Consulado en Antofagasta     CHL\n",
       "2    CAREN                  Consulado General en Punta Arenas     CHL\n",
       "3    CASUN                      Consulado General en Asunción     PRY\n",
       "4    CATLA                       Consulado General en Atlanta     USA\n",
       "..     ...                                                ...     ...\n",
       "159  EURUG                                Embajada en Uruguay     URY\n",
       "160  EVENE                              Embajada en Venezuela     VEN\n",
       "161  EVIET                                Embajada en Vietnam     VNM\n",
       "162  OCCAT   Oficina Comercial y Cultural Argentina en Taiwán     CHN\n",
       "163  REPAL  Oficina de Representación en el Estado de Pale...     PSE\n",
       "\n",
       "[164 rows x 3 columns]"
      ]
     },
     "execution_count": 430,
     "metadata": {},
     "output_type": "execute_result"
    }
   ],
   "source": [
    "Sedes.to_csv('Tablas/TABLA. Sedes.csv', index=False)\n",
    "\n",
    "Sedes"
   ]
  },
  {
   "cell_type": "markdown",
   "metadata": {},
   "source": [
    "### __Secciones__\n",
    "\n",
    "***"
   ]
  },
  {
   "cell_type": "markdown",
   "metadata": {},
   "source": [
    "Para armar esta tabla utilizamos el dataset \"Secciones.csv\"."
   ]
  },
  {
   "cell_type": "code",
   "execution_count": 431,
   "metadata": {},
   "outputs": [],
   "source": [
    "Dataset_Secciones = 'Secciones'\n",
    "Secciones_DB = pd.read_csv(Ruta + Dataset_Secciones + '.csv')"
   ]
  },
  {
   "cell_type": "markdown",
   "metadata": {},
   "source": [
    "Quitamos las columnas que no sirven y cambiamos los nombres de los atributos."
   ]
  },
  {
   "cell_type": "code",
   "execution_count": 432,
   "metadata": {},
   "outputs": [],
   "source": [
    "Secciones = Secciones_DB[['sede_id', 'sede_desc_castellano']]\n",
    "Secciones = Secciones.rename(columns={'sede_id': 'id_sede', 'sede_desc_castellano': 'nombre'})"
   ]
  },
  {
   "cell_type": "markdown",
   "metadata": {},
   "source": [
    "Borramos espacios adicionales."
   ]
  },
  {
   "cell_type": "code",
   "execution_count": 433,
   "metadata": {},
   "outputs": [],
   "source": [
    "for Columna in Secciones.columns:\n",
    "    Secciones[Columna] = Secciones[Columna].str.strip().str.replace(r'\\s+', ' ', regex=True)"
   ]
  },
  {
   "cell_type": "markdown",
   "metadata": {},
   "source": [
    "Ordenamos alfabéticamente por id."
   ]
  },
  {
   "cell_type": "code",
   "execution_count": 434,
   "metadata": {},
   "outputs": [],
   "source": [
    "Secciones = Secciones.sort_values(by='id_sede').reset_index(drop=True)"
   ]
  },
  {
   "cell_type": "markdown",
   "metadata": {},
   "source": [
    "Chequeo final de nulos en la columna \"id\". Los eliminamos."
   ]
  },
  {
   "cell_type": "code",
   "execution_count": 435,
   "metadata": {},
   "outputs": [],
   "source": [
    "Secciones = Secciones.dropna(subset='id_sede')"
   ]
  },
  {
   "cell_type": "markdown",
   "metadata": {},
   "source": [
    "Guardamos el documento."
   ]
  },
  {
   "cell_type": "code",
   "execution_count": 436,
   "metadata": {},
   "outputs": [
    {
     "data": {
      "text/html": [
       "<div>\n",
       "<style scoped>\n",
       "    .dataframe tbody tr th:only-of-type {\n",
       "        vertical-align: middle;\n",
       "    }\n",
       "\n",
       "    .dataframe tbody tr th {\n",
       "        vertical-align: top;\n",
       "    }\n",
       "\n",
       "    .dataframe thead th {\n",
       "        text-align: right;\n",
       "    }\n",
       "</style>\n",
       "<table border=\"1\" class=\"dataframe\">\n",
       "  <thead>\n",
       "    <tr style=\"text-align: right;\">\n",
       "      <th></th>\n",
       "      <th>id_sede</th>\n",
       "      <th>nombre</th>\n",
       "    </tr>\n",
       "  </thead>\n",
       "  <tbody>\n",
       "    <tr>\n",
       "      <th>0</th>\n",
       "      <td>CBARC</td>\n",
       "      <td>Sección Cultura, Educación y Redes Sociales</td>\n",
       "    </tr>\n",
       "    <tr>\n",
       "      <th>1</th>\n",
       "      <td>CBARC</td>\n",
       "      <td>Sección Administrativa</td>\n",
       "    </tr>\n",
       "    <tr>\n",
       "      <th>2</th>\n",
       "      <td>CBARC</td>\n",
       "      <td>Sección Consular (Asistencia al ciudadano/Visas)</td>\n",
       "    </tr>\n",
       "    <tr>\n",
       "      <th>3</th>\n",
       "      <td>CBARC</td>\n",
       "      <td>Sección Consular (Documentación/Asuntos previs...</td>\n",
       "    </tr>\n",
       "    <tr>\n",
       "      <th>4</th>\n",
       "      <td>CBARC</td>\n",
       "      <td>Sección Comercial, Turismo e Inversiones</td>\n",
       "    </tr>\n",
       "    <tr>\n",
       "      <th>...</th>\n",
       "      <td>...</td>\n",
       "      <td>...</td>\n",
       "    </tr>\n",
       "    <tr>\n",
       "      <th>510</th>\n",
       "      <td>EVENE</td>\n",
       "      <td>Sección Política</td>\n",
       "    </tr>\n",
       "    <tr>\n",
       "      <th>511</th>\n",
       "      <td>EVIET</td>\n",
       "      <td>Sección Prensa y Cultura</td>\n",
       "    </tr>\n",
       "    <tr>\n",
       "      <th>512</th>\n",
       "      <td>EVIET</td>\n",
       "      <td>Sección Política y Cooperación</td>\n",
       "    </tr>\n",
       "    <tr>\n",
       "      <th>513</th>\n",
       "      <td>EVIET</td>\n",
       "      <td>Sección Económica, Comercial y de Inversiones</td>\n",
       "    </tr>\n",
       "    <tr>\n",
       "      <th>514</th>\n",
       "      <td>EVIET</td>\n",
       "      <td>Sección Consular</td>\n",
       "    </tr>\n",
       "  </tbody>\n",
       "</table>\n",
       "<p>515 rows × 2 columns</p>\n",
       "</div>"
      ],
      "text/plain": [
       "    id_sede                                             nombre\n",
       "0     CBARC        Sección Cultura, Educación y Redes Sociales\n",
       "1     CBARC                             Sección Administrativa\n",
       "2     CBARC   Sección Consular (Asistencia al ciudadano/Visas)\n",
       "3     CBARC  Sección Consular (Documentación/Asuntos previs...\n",
       "4     CBARC           Sección Comercial, Turismo e Inversiones\n",
       "..      ...                                                ...\n",
       "510   EVENE                                   Sección Política\n",
       "511   EVIET                           Sección Prensa y Cultura\n",
       "512   EVIET                     Sección Política y Cooperación\n",
       "513   EVIET      Sección Económica, Comercial y de Inversiones\n",
       "514   EVIET                                   Sección Consular\n",
       "\n",
       "[515 rows x 2 columns]"
      ]
     },
     "execution_count": 436,
     "metadata": {},
     "output_type": "execute_result"
    }
   ],
   "source": [
    "Secciones.to_csv('Tablas/TABLA. Secciones.csv', index=False)\n",
    "\n",
    "Secciones"
   ]
  },
  {
   "cell_type": "markdown",
   "metadata": {},
   "source": [
    "### __Atributos foráneos__\n",
    "\n",
    "***"
   ]
  },
  {
   "cell_type": "markdown",
   "metadata": {},
   "source": [
    "Vamos a chequear que todos los valores correspondientes a las columnas que son atributos foráneos existan en la columna original correspondiente. Si no existe, se agrega ese valor en el DataFrame del que se extrae el dato."
   ]
  },
  {
   "cell_type": "markdown",
   "metadata": {},
   "source": [
    "##### Migraciones"
   ]
  },
  {
   "cell_type": "markdown",
   "metadata": {},
   "source": [
    "En \"Migrantes\" hay dos atributos foráneos: \"id_pais_origen\" e \"id_pais_destino\", que provienen de \"id\" de la tabla \"Paises\". Al haberse armado la tabla \"Paises\", y, en particular su columna \"id\", a partir de las columnas \"id_pais_destino\" e \"id_pais_origen\", así como de \"pais_iso_3\" de la tabla \"Sedes\", no es necesario verificar, ya que todos los valores provenientes de estas columnas están en la columna \"id\"."
   ]
  },
  {
   "cell_type": "markdown",
   "metadata": {},
   "source": [
    "##### Regiones"
   ]
  },
  {
   "cell_type": "markdown",
   "metadata": {},
   "source": [
    "No tiene atributos foráneos."
   ]
  },
  {
   "cell_type": "markdown",
   "metadata": {},
   "source": [
    "##### Paises"
   ]
  },
  {
   "cell_type": "markdown",
   "metadata": {},
   "source": [
    "Tiene un atributo foráneo: \"id_region\", proveniente de la columna \"id\" de la tabla Regiones. El \"id\" es un valor ficticio que agregamos para no escribir el nombre entero en toda la tabla repetidas veces. "
   ]
  },
  {
   "cell_type": "code",
   "execution_count": null,
   "metadata": {},
   "outputs": [],
   "source": []
  }
 ],
 "metadata": {
  "kernelspec": {
   "display_name": "Python 3",
   "language": "python",
   "name": "python3"
  },
  "language_info": {
   "codemirror_mode": {
    "name": "ipython",
    "version": 3
   },
   "file_extension": ".py",
   "mimetype": "text/x-python",
   "name": "python",
   "nbconvert_exporter": "python",
   "pygments_lexer": "ipython3",
   "version": "3.11.9"
  }
 },
 "nbformat": 4,
 "nbformat_minor": 2
}
