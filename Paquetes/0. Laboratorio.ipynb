{
 "cells": [
  {
   "cell_type": "code",
   "execution_count": 8,
   "metadata": {},
   "outputs": [],
   "source": [
    "import pandas as pd\n",
    "import numpy as np\n",
    "import seaborn as sns\n",
    "import matplotlib.pyplot as plt"
   ]
  },
  {
   "cell_type": "code",
   "execution_count": null,
   "metadata": {},
   "outputs": [],
   "source": [
    "def Correlation_Heatmap(df: pd.DataFrame, \n",
    "                                    Title = None, \n",
    "                                    X_Label = None,\n",
    "                                    Y_Label = None,\n",
    "                                    File = None):\n",
    "    \n",
    "    \"\"\"\n",
    "    Creates a half-masked heatmap of the correlation matrix from the input DataFrame.\n",
    "    Only the lower triangular part of the heatmap is shown, while the upper part is masked.\n",
    "\n",
    "    Example:\n",
    "    Half_Masked_Correlation_Heatmap(df, Title=\"Correlation Heatmap\", File=\"heatmap.png\")\n",
    "\n",
    "    \"\"\"\n",
    "\n",
    "    plt.figure(figsize = (9,9))\n",
    "    sns.set(font_scale = 1)\n",
    "\n",
    "    # Mask of zeros with the same size of the matrix of correlation.\n",
    "    Mask = np.zeros_like(df.corr())\n",
    "\n",
    "    # Hide a half part of the matrix.\n",
    "    Mask[np.triu_indices_from(Mask)] = True\n",
    "\n",
    "    with sns.axes_style('white'):\n",
    "        sns.heatmap(df.corr(), mask = Mask, annot = True, cmap = 'coolwarm')\n",
    "    \n",
    "    if Title:\n",
    "        plt.title(Title)\n",
    "        plt.xlabel(X_Label)\n",
    "        plt.ylabel(Y_Label)\n",
    "\n",
    "    if File:\n",
    "        plt.savefig(File, bbox_inches = 'tight')\n",
    "    \n",
    "    plt.show()\n",
    "\n",
    "    return\n",
    "\n"
   ]
  }
 ],
 "metadata": {
  "kernelspec": {
   "display_name": "Python 3",
   "language": "python",
   "name": "python3"
  },
  "language_info": {
   "codemirror_mode": {
    "name": "ipython",
    "version": 3
   },
   "file_extension": ".py",
   "mimetype": "text/x-python",
   "name": "python",
   "nbconvert_exporter": "python",
   "pygments_lexer": "ipython3",
   "version": "3.11.9"
  }
 },
 "nbformat": 4,
 "nbformat_minor": 2
}
